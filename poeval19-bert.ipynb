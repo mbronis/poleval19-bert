{
 "cells": [
  {
   "cell_type": "markdown",
   "id": "9382ad1c",
   "metadata": {},
   "source": [
    "# imports"
   ]
  },
  {
   "cell_type": "code",
   "execution_count": 1,
   "id": "543a5b6d",
   "metadata": {
    "ExecuteTime": {
     "end_time": "2021-06-30T18:58:05.874624Z",
     "start_time": "2021-06-30T18:58:05.843912Z"
    }
   },
   "outputs": [],
   "source": [
    "%load_ext autoreload\n",
    "%autoreload 2"
   ]
  },
  {
   "cell_type": "code",
   "execution_count": 2,
   "id": "0cc06366",
   "metadata": {
    "ExecuteTime": {
     "end_time": "2021-06-30T18:58:07.935021Z",
     "start_time": "2021-06-30T18:58:06.941836Z"
    }
   },
   "outputs": [],
   "source": [
    "from itertools import compress\n",
    "\n",
    "from src.io import DataLoader\n",
    "from src.preproc import Preprocessor"
   ]
  },
  {
   "cell_type": "markdown",
   "id": "90cbc8ff",
   "metadata": {},
   "source": [
    "# prep data"
   ]
  },
  {
   "cell_type": "code",
   "execution_count": 3,
   "id": "8c38404d",
   "metadata": {
    "ExecuteTime": {
     "end_time": "2021-06-30T18:58:11.317921Z",
     "start_time": "2021-06-30T18:58:08.852164Z"
    }
   },
   "outputs": [],
   "source": [
    "dl = DataLoader()\n",
    "dataset = dl.load_raw()"
   ]
  },
  {
   "cell_type": "code",
   "execution_count": 4,
   "id": "c73ea205",
   "metadata": {
    "ExecuteTime": {
     "end_time": "2021-06-30T18:58:13.237551Z",
     "start_time": "2021-06-30T18:58:13.196704Z"
    }
   },
   "outputs": [],
   "source": [
    "preprocessor = Preprocessor()\n",
    "dataset_preproc = preprocessor(dataset)"
   ]
  },
  {
   "cell_type": "code",
   "execution_count": 5,
   "id": "79af5edf",
   "metadata": {
    "ExecuteTime": {
     "end_time": "2021-06-30T18:58:16.363997Z",
     "start_time": "2021-06-30T18:58:16.329390Z"
    }
   },
   "outputs": [],
   "source": [
    "hate = [t==1 for t in dataset_preproc['train']['target']]"
   ]
  },
  {
   "cell_type": "code",
   "execution_count": 6,
   "id": "07d62e38",
   "metadata": {
    "ExecuteTime": {
     "end_time": "2021-06-30T18:58:17.101651Z",
     "start_time": "2021-06-30T18:58:17.057916Z"
    }
   },
   "outputs": [
    {
     "data": {
      "text/plain": [
       "['Czy Adam już nie żyje? Jeśli tak, to jak rozwiązali jego wątek?  #nadobreinazłe',\n",
       " '@anonymized_account @anonymized_account @anonymized_account W takim razie sie zapedzilem, i tak nie daje banów, nawet botom',\n",
       " '@anonymized_account Nieprawda. Normalnie tak się nie \\\\\"tnie\\\\\".',\n",
       " 'Coś się dzieje atak botów z każdej strony',\n",
       " 'na ból gardła najlepsza wódeczka',\n",
       " 'RT @anonymized_account Może być kliknęli i zrobili dobry uczynek? Każdy RT = oddany na Marcina Gortata głos.\\\\n\\\\n@anonymized_account #NBAvote',\n",
       " '@anonymized_account @anonymized_account no nic pozostaje nam walka o wicemistrzostwo :(',\n",
       " 'RT @anonymized_account @anonymized_account Chciałbyś aby tak było miernoto :)',\n",
       " '@anonymized_account @anonymized_account e, ja już jedną w tym roku przeczytałam, wystarczy.',\n",
       " '@anonymized_account Kiedyś lm96 w galerii w Wawie XDD']"
      ]
     },
     "execution_count": 6,
     "metadata": {},
     "output_type": "execute_result"
    }
   ],
   "source": [
    "list(compress(dataset_preproc['test']['sentence'], hate))[:10]"
   ]
  },
  {
   "cell_type": "code",
   "execution_count": 7,
   "id": "80f4a1ff",
   "metadata": {
    "ExecuteTime": {
     "end_time": "2021-06-30T18:58:20.562705Z",
     "start_time": "2021-06-30T18:58:20.530258Z"
    }
   },
   "outputs": [
    {
     "data": {
      "text/plain": [
       "['Czy Adam już nie żyje? Jeśli tak, to jak rozwiązali jego wątek? nadobreinazłe',\n",
       " 'W takim razie sie zapedzilem, i tak nie daje banów, nawet botom',\n",
       " 'Nieprawda. Normalnie tak się nie tnie.',\n",
       " 'Coś się dzieje atak botów z każdej strony',\n",
       " 'na ból gardła najlepsza wódeczka',\n",
       " 'RT Może być kliknęli i zrobili dobry uczynek? Każdy RT oddany na Marcina Gortata głos.nn NBAvote',\n",
       " 'no nic pozostaje nam walka o wicemistrzostwo',\n",
       " 'RT Chciałbyś aby tak było miernoto',\n",
       " 'e, ja już jedną w tym roku przeczytałam, wystarczy.',\n",
       " 'Kiedyś lm96 w galerii w Wawie XDD']"
      ]
     },
     "execution_count": 7,
     "metadata": {},
     "output_type": "execute_result"
    }
   ],
   "source": [
    "list(compress(dataset_preproc['test']['preproc'], hate))[:10]"
   ]
  },
  {
   "cell_type": "markdown",
   "id": "99cb934c",
   "metadata": {},
   "source": [
    "# translate"
   ]
  },
  {
   "cell_type": "code",
   "execution_count": 8,
   "id": "5fa32318",
   "metadata": {
    "ExecuteTime": {
     "end_time": "2021-06-30T18:58:23.473839Z",
     "start_time": "2021-06-30T18:58:23.435849Z"
    }
   },
   "outputs": [],
   "source": [
    "import sentencepiece"
   ]
  },
  {
   "cell_type": "code",
   "execution_count": 73,
   "id": "22c72b61",
   "metadata": {
    "ExecuteTime": {
     "end_time": "2021-06-30T19:58:19.310604Z",
     "start_time": "2021-06-30T19:58:08.570439Z"
    }
   },
   "outputs": [],
   "source": [
    "from transformers import AutoTokenizer, AutoModelForSeq2SeqLM\n",
    "  \n",
    "tokenizer = AutoTokenizer.from_pretrained(\"Helsinki-NLP/opus-mt-pl-en\")\n",
    "model = AutoModelForSeq2SeqLM.from_pretrained(\"Helsinki-NLP/opus-mt-pl-en\")"
   ]
  },
  {
   "cell_type": "code",
   "execution_count": 106,
   "id": "27e94ecd",
   "metadata": {
    "ExecuteTime": {
     "end_time": "2021-06-30T20:16:37.919577Z",
     "start_time": "2021-06-30T20:15:30.469723Z"
    }
   },
   "outputs": [],
   "source": [
    "translated = model.generate(**tokenizer(dataset_preproc['train']['preproc'][:100], return_tensors=\"pt\", padding=True))"
   ]
  },
  {
   "cell_type": "code",
   "execution_count": 107,
   "id": "4b9504db",
   "metadata": {
    "ExecuteTime": {
     "end_time": "2021-06-30T20:16:38.010316Z",
     "start_time": "2021-06-30T20:16:37.921334Z"
    }
   },
   "outputs": [],
   "source": [
    "translated_en = [tokenizer.decode(t, skip_special_tokens=True) for t in translated]"
   ]
  },
  {
   "cell_type": "markdown",
   "id": "9a5d585c",
   "metadata": {},
   "source": [
    "# classify"
   ]
  },
  {
   "cell_type": "code",
   "execution_count": 111,
   "id": "e5d8527f",
   "metadata": {
    "ExecuteTime": {
     "end_time": "2021-06-30T20:29:14.468818Z",
     "start_time": "2021-06-30T20:25:44.582698Z"
    }
   },
   "outputs": [
    {
     "data": {
      "application/vnd.jupyter.widget-view+json": {
       "model_id": "94ccbcd4bb474920962c4eb2a9b2f388",
       "version_major": 2,
       "version_minor": 0
      },
      "text/plain": [
       "HBox(children=(FloatProgress(value=0.0, description='Downloading', max=48.0, style=ProgressStyle(description_w…"
      ]
     },
     "metadata": {},
     "output_type": "display_data"
    },
    {
     "name": "stdout",
     "output_type": "stream",
     "text": [
      "\n"
     ]
    },
    {
     "data": {
      "application/vnd.jupyter.widget-view+json": {
       "model_id": "2b17f78c9e394f49addc93a4df1eda95",
       "version_major": 2,
       "version_minor": 0
      },
      "text/plain": [
       "HBox(children=(FloatProgress(value=0.0, description='Downloading', max=629.0, style=ProgressStyle(description_…"
      ]
     },
     "metadata": {},
     "output_type": "display_data"
    },
    {
     "name": "stdout",
     "output_type": "stream",
     "text": [
      "\n"
     ]
    },
    {
     "data": {
      "application/vnd.jupyter.widget-view+json": {
       "model_id": "5648351201dc4af69119ce3569a5f036",
       "version_major": 2,
       "version_minor": 0
      },
      "text/plain": [
       "HBox(children=(FloatProgress(value=0.0, description='Downloading', max=231508.0, style=ProgressStyle(descripti…"
      ]
     },
     "metadata": {},
     "output_type": "display_data"
    },
    {
     "name": "stdout",
     "output_type": "stream",
     "text": [
      "\n"
     ]
    },
    {
     "data": {
      "application/vnd.jupyter.widget-view+json": {
       "model_id": "f5ccdc89a23b4cd3a2b741e031220d33",
       "version_major": 2,
       "version_minor": 0
      },
      "text/plain": [
       "HBox(children=(FloatProgress(value=0.0, description='Downloading', max=267844284.0, style=ProgressStyle(descri…"
      ]
     },
     "metadata": {},
     "output_type": "display_data"
    },
    {
     "name": "stdout",
     "output_type": "stream",
     "text": [
      "\n"
     ]
    }
   ],
   "source": [
    "from transformers import AutoTokenizer, AutoModelForSequenceClassification\n",
    "  \n",
    "tokenizer_class = AutoTokenizer.from_pretrained(\"distilbert-base-uncased-finetuned-sst-2-english\")\n",
    "model_class = AutoModelForSequenceClassification.from_pretrained(\"distilbert-base-uncased-finetuned-sst-2-english\")"
   ]
  },
  {
   "cell_type": "code",
   "execution_count": 138,
   "id": "2b007f4f",
   "metadata": {
    "ExecuteTime": {
     "end_time": "2021-06-30T20:44:25.156544Z",
     "start_time": "2021-06-30T20:44:25.114773Z"
    }
   },
   "outputs": [],
   "source": [
    "input_clf = tokenizer_class(translated_en, return_tensors=\"pt\", padding=True)"
   ]
  },
  {
   "cell_type": "code",
   "execution_count": 153,
   "id": "c99f125d",
   "metadata": {
    "ExecuteTime": {
     "end_time": "2021-06-30T20:53:38.724398Z",
     "start_time": "2021-06-30T20:53:34.790617Z"
    }
   },
   "outputs": [],
   "source": [
    "classified = model_class(**input_clf)"
   ]
  },
  {
   "cell_type": "code",
   "execution_count": 147,
   "id": "0f611dbe",
   "metadata": {
    "ExecuteTime": {
     "end_time": "2021-06-30T20:49:16.145331Z",
     "start_time": "2021-06-30T20:49:16.107415Z"
    }
   },
   "outputs": [
    {
     "data": {
      "text/plain": [
       "tensor(3.4106, grad_fn=<SelectBackward>)"
      ]
     },
     "execution_count": 147,
     "metadata": {},
     "output_type": "execute_result"
    }
   ],
   "source": [
    "classified['logits'][1][1]"
   ]
  },
  {
   "cell_type": "code",
   "execution_count": 151,
   "id": "ace34483",
   "metadata": {
    "ExecuteTime": {
     "end_time": "2021-06-30T20:53:12.021744Z",
     "start_time": "2021-06-30T20:53:11.979653Z"
    }
   },
   "outputs": [],
   "source": [
    "def logit2prob(logit: float) -> float:\n",
    "    odds = np.exp(logit)\n",
    "    prob = odds / (1 + odds)\n",
    "    return(prob)"
   ]
  },
  {
   "cell_type": "code",
   "execution_count": 152,
   "id": "cef3fe8b",
   "metadata": {
    "ExecuteTime": {
     "end_time": "2021-06-30T20:53:21.730765Z",
     "start_time": "2021-06-30T20:53:21.683550Z"
    }
   },
   "outputs": [
    {
     "data": {
      "text/plain": [
       "0.9680341741323084"
      ]
     },
     "execution_count": 152,
     "metadata": {},
     "output_type": "execute_result"
    }
   ],
   "source": [
    "logit2prob(3.4106)"
   ]
  },
  {
   "cell_type": "code",
   "execution_count": null,
   "id": "8376358e",
   "metadata": {},
   "outputs": [],
   "source": []
  }
 ],
 "metadata": {
  "hide_input": false,
  "kernelspec": {
   "display_name": "Python 3",
   "language": "python",
   "name": "python3"
  },
  "language_info": {
   "codemirror_mode": {
    "name": "ipython",
    "version": 3
   },
   "file_extension": ".py",
   "mimetype": "text/x-python",
   "name": "python",
   "nbconvert_exporter": "python",
   "pygments_lexer": "ipython3",
   "version": "3.8.3"
  },
  "toc": {
   "base_numbering": 1,
   "nav_menu": {},
   "number_sections": true,
   "sideBar": true,
   "skip_h1_title": false,
   "title_cell": "Table of Contents",
   "title_sidebar": "Contents",
   "toc_cell": false,
   "toc_position": {
    "height": "calc(100% - 180px)",
    "left": "10px",
    "top": "150px",
    "width": "165px"
   },
   "toc_section_display": true,
   "toc_window_display": true
  }
 },
 "nbformat": 4,
 "nbformat_minor": 5
}
